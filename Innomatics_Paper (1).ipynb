{
 "cells": [
  {
   "cell_type": "code",
   "execution_count": 11,
   "id": "8e9d49f7-1563-410d-80f2-c1c95d67162d",
   "metadata": {},
   "outputs": [
    {
     "name": "stdout",
     "output_type": "stream",
     "text": [
      "All CSV files have been merged into C:\\\\Users\\\\Hp\\\\Downloads\\\\64CSVfiles.csv\n"
     ]
    }
   ],
   "source": [
    "import os\n",
    "import pandas as pd\n",
    "\n",
    "\n",
    "folder_path  = r'C:\\\\Users\\Hp\\\\Downloads\\\\Property_data'\n",
    "\n",
    "csv_files = [file for file in os.listdir(folder_path) if file.endswith('.csv')]\n",
    "merged_data = pd.DataFrame()\n",
    "\n",
    "for file in csv_files:\n",
    "    file_path = os.path.join(folder_path, file)\n",
    "    df = pd.read_csv(file_path, encoding='ISO-8859-1') \n",
    "    merged_data = pd.concat([merged_data, df], ignore_index=True)\n",
    "\n",
    "output_path = r\"C:\\\\Users\\\\Hp\\\\Downloads\\\\64CSVfiles.csv\"\n",
    "merged_data.to_csv(output_path, index=False)\n",
    "\n",
    "print(f\"All CSV files have been merged into {output_path}\")"
   ]
  },
  {
   "cell_type": "code",
   "execution_count": 12,
   "id": "9e47e682-6f37-4573-a3be-c6f3688817e5",
   "metadata": {},
   "outputs": [
    {
     "name": "stdout",
     "output_type": "stream",
     "text": [
      "                        property_id  type   activation_date  bathroom  floor  \\\n",
      "0  ff8080814a078fd2014a15c813ff0b03  BHK3  20-02-2017 09:24       3.0    2.0   \n",
      "1  ff8081814c2dea94014c50865ea35904  BHK2  11-03-2017 16:12       2.0    0.0   \n",
      "2  ff8081814cff7251014d04e2cc7018fd  BHK2  18-03-2017 14:26       2.0    2.0   \n",
      "3  ff8081814eb65997014ebbaa22f11869  BHK2  28-03-2017 11:09       2.0    3.0   \n",
      "4  ff8081814fa8748d014fabcabea10bb6  BHK3  14-02-2017 17:07       2.0    1.0   \n",
      "\n",
      "   total_floor      furnishing gym   latitude  longitude  ... property_age  \\\n",
      "0          6.0  SEMI_FURNISHED   1  12.872456  77.617578  ...          2.0   \n",
      "1          2.0  SEMI_FURNISHED   0  12.876009  77.617934  ...          5.0   \n",
      "2         19.0  SEMI_FURNISHED   1  12.875923  77.617946  ...          2.0   \n",
      "3          5.0  SEMI_FURNISHED   1  12.859438  77.614948  ...          1.0   \n",
      "4          3.0  SEMI_FURNISHED   0  12.875697  77.617187  ...          1.0   \n",
      "\n",
      "  property_size swimming_pool  pin_code     rent   deposit building_type  \\\n",
      "0        2000.0             0  560068.0  22000.0  150000.0            AP   \n",
      "1        1250.0             0  560076.0  12500.0  125000.0            IF   \n",
      "2        1279.0             1  560068.0  17500.0  175000.0            AP   \n",
      "3        1200.0             0  560076.0  15000.0  100000.0            AP   \n",
      "4        1550.0             0  560076.0  18000.0  100000.0            AP   \n",
      "\n",
      "   location  ÿþ  \\\n",
      "0       NaN NaN   \n",
      "1       NaN NaN   \n",
      "2       NaN NaN   \n",
      "3       NaN NaN   \n",
      "4       NaN NaN   \n",
      "\n",
      "   property_id/type/activation_date/bathroom/floor/total_floor/furnishing/gym/latitude/longitude/lease_type/lift/locality/parking/property_age/property_size/swimming_pool/pin_code/rent/deposit/building_type  \n",
      "0                                                NaN                                                                                                                                                            \n",
      "1                                                NaN                                                                                                                                                            \n",
      "2                                                NaN                                                                                                                                                            \n",
      "3                                                NaN                                                                                                                                                            \n",
      "4                                                NaN                                                                                                                                                            \n",
      "\n",
      "[5 rows x 24 columns]\n",
      "Shape of the DataFrame: (14532, 24)\n"
     ]
    }
   ],
   "source": [
    "import pandas as pd\n",
    "\n",
    "file_path = '64CSVfiles.csv' \n",
    "df = pd.read_csv(file_path)\n",
    "\n",
    "print(df.head())\n",
    "\n",
    "print(\"Shape of the DataFrame:\", df.shape)"
   ]
  },
  {
   "cell_type": "code",
   "execution_count": null,
   "id": "207d8c69-ac55-4d3e-abb8-406ffd8c8f92",
   "metadata": {},
   "outputs": [],
   "source": []
  },
  {
   "cell_type": "code",
   "execution_count": 13,
   "id": "c26f0fd0-8b4e-4990-b73f-8b1a151f04f8",
   "metadata": {},
   "outputs": [
    {
     "name": "stdout",
     "output_type": "stream",
     "text": [
      "Error reading C:\\Users\\Hp\\Downloads\\Property_data\\HSR_Layout.csv: 'utf-8' codec can't decode byte 0xff in position 0: invalid start byte\n",
      "Final shape of the combined property data: (13670, 21)\n"
     ]
    }
   ],
   "source": [
    "import pandas as pd\n",
    "import glob\n",
    "import os\n",
    "\n",
    "path = r'C:\\Users\\Hp\\Downloads\\Property_data' \n",
    "all_files = glob.glob(os.path.join(path, \"*.csv\"))\n",
    "\n",
    "\n",
    "dataframes = []\n",
    "\n",
    "for filename in all_files:\n",
    "    try:\n",
    "        df = pd.read_csv(filename)\n",
    "        dataframes.append(df)  \n",
    "    except Exception as e:\n",
    "        print(f\"Error reading {filename}: {e}\")\n",
    "\n",
    "\n",
    "if dataframes:  \n",
    "    combined_df = pd.concat(dataframes, ignore_index=True)\n",
    "\n",
    "    combined_df.drop_duplicates(inplace=True)\n",
    "\n",
    " \n",
    "    combined_df.dropna(thresh=len(combined_df) * 0.5, axis=1, inplace=True)\n",
    "\n",
    "    print(\"Final shape of the combined property data:\", combined_df.shape)\n",
    "else:\n",
    "    print(\"No valid CSV files were found or read.\")"
   ]
  },
  {
   "cell_type": "code",
   "execution_count": 16,
   "id": "d1c9282c-2bdc-4593-905b-6932638d4431",
   "metadata": {},
   "outputs": [
    {
     "name": "stdout",
     "output_type": "stream",
     "text": [
      "Columns in the DataFrame: ['property_id', 'type', 'activation_date', 'bathroom', 'floor', 'total_floor', 'furnishing', 'gym', 'latitude', 'longitude', 'lease_type', 'lift', 'locality', 'parking', 'property_age', 'property_size', 'swimming_pool', 'pin_code', 'rent', 'deposit', 'building_type']\n",
      "'location' column not found in the DataFrame.\n"
     ]
    }
   ],
   "source": [
    "print(\"Columns in the DataFrame:\", df.columns.tolist())\n",
    "\n",
    "df.columns = df.columns.str.strip()\n",
    "if 'location' in df.columns:\n",
    "    \n",
    "    unique_locations_count = df['location'].nunique()\n",
    "    print(\"Number of unique locations:\", unique_locations_count)\n",
    "else:\n",
    "    print(\"'location' column not found in the DataFrame.\")\n"
   ]
  },
  {
   "cell_type": "code",
   "execution_count": 17,
   "id": "86b7a07e-249a-40fd-a78f-7f02f36b36db",
   "metadata": {},
   "outputs": [
    {
     "name": "stdout",
     "output_type": "stream",
     "text": [
      "The feature with the highest correlation with rent is: property_size\n",
      "The correlation value is: 0.7747210366440287\n"
     ]
    }
   ],
   "source": [
    "\n",
    "\n",
    "\n",
    "df.columns = df.columns.str.strip().str.lower().str.replace(' ', '_')\n",
    "\n",
    "numeric_features = df.select_dtypes(include=['float64', 'int64'])\n",
    "\n",
    "correlation_with_rent = numeric_features.corr()['rent'].drop('rent')\n",
    "\n",
    "highest_correlation_feature = correlation_with_rent.idxmax()\n",
    "highest_correlation_value = correlation_with_rent.max()\n",
    "\n",
    "print(f\"The feature with the highest correlation with rent is: {highest_correlation_feature}\")\n",
    "print(f\"The correlation value is: {highest_correlation_value}\")"
   ]
  },
  {
   "cell_type": "code",
   "execution_count": 18,
   "id": "00efe771-6607-4714-87b8-84a9778baf48",
   "metadata": {},
   "outputs": [
    {
     "name": "stdout",
     "output_type": "stream",
     "text": [
      "Most frequent property age category: New\n"
     ]
    }
   ],
   "source": [
    "\n",
    "def categorize_property_age(age):\n",
    "    if age <= 1:\n",
    "        return \"New\"\n",
    "    elif 1 < age <= 5:\n",
    "        return \"Less than 5 years\"\n",
    "    elif 5 < age <= 10:\n",
    "        return \"5 to 10 years\"\n",
    "    elif 10 < age <= 20:\n",
    "        return \"10 to 20 years\"\n",
    "    else:\n",
    "        return \"More than 20 years\"\n",
    "\n",
    "\n",
    "df['property_age_category'] = df['property_age'].apply(categorize_property_age)\n",
    "\n",
    "most_frequent_category = df['property_age_category'].value_counts().idxmax()\n",
    "\n",
    "\n",
    "print(\"Most frequent property age category:\", most_frequent_category)\n"
   ]
  },
  {
   "cell_type": "code",
   "execution_count": 21,
   "id": "7210d422-bab0-4348-ab97-c1a60f159d62",
   "metadata": {},
   "outputs": [
    {
     "name": "stdout",
     "output_type": "stream",
     "text": [
      "Columns in the DataFrame: ['property_id', 'type', 'activation_date', 'bathroom', 'floor', 'total_floor', 'furnishing', 'gym', 'latitude', 'longitude', 'lease_type', 'lift', 'locality', 'parking', 'property_age', 'property_size', 'swimming_pool', 'pin_code', 'rent', 'deposit', 'building_type', 'property_age_category']\n"
     ]
    }
   ],
   "source": [
    "\n",
    "print(\"Columns in the DataFrame:\", df.columns.tolist())\n"
   ]
  },
  {
   "cell_type": "code",
   "execution_count": 23,
   "id": "4ec09bad-27a2-4c7e-9bb3-3ec1d17c54b0",
   "metadata": {},
   "outputs": [
    {
     "name": "stdout",
     "output_type": "stream",
     "text": [
      "Apartment type with the highest interactions: BHK2\n"
     ]
    }
   ],
   "source": [
    "type_interactions = df['type'].value_counts()\n",
    "\n",
    "\n",
    "highest_interaction_type = type_interactions.idxmax()\n",
    "print(f\"Apartment type with the highest interactions: {highest_interaction_type}\")\n"
   ]
  },
  {
   "cell_type": "code",
   "execution_count": 27,
   "id": "50eb35bd-bb1c-4f8e-90b5-0110a27012a6",
   "metadata": {},
   "outputs": [
    {
     "data": {
      "text/html": [
       "<div>\n",
       "<style scoped>\n",
       "    .dataframe tbody tr th:only-of-type {\n",
       "        vertical-align: middle;\n",
       "    }\n",
       "\n",
       "    .dataframe tbody tr th {\n",
       "        vertical-align: top;\n",
       "    }\n",
       "\n",
       "    .dataframe thead th {\n",
       "        text-align: right;\n",
       "    }\n",
       "</style>\n",
       "<table border=\"1\" class=\"dataframe\">\n",
       "  <thead>\n",
       "    <tr style=\"text-align: right;\">\n",
       "      <th></th>\n",
       "      <th>property_id</th>\n",
       "      <th>type</th>\n",
       "      <th>activation_date</th>\n",
       "      <th>bathroom</th>\n",
       "      <th>floor</th>\n",
       "      <th>total_floor</th>\n",
       "      <th>furnishing</th>\n",
       "      <th>gym</th>\n",
       "      <th>latitude</th>\n",
       "      <th>longitude</th>\n",
       "      <th>...</th>\n",
       "      <th>property_age</th>\n",
       "      <th>property_size</th>\n",
       "      <th>swimming_pool</th>\n",
       "      <th>pin_code</th>\n",
       "      <th>rent</th>\n",
       "      <th>deposit</th>\n",
       "      <th>building_type</th>\n",
       "      <th>location</th>\n",
       "      <th>ÿþ</th>\n",
       "      <th>property_id/type/activation_date/bathroom/floor/total_floor/furnishing/gym/latitude/longitude/lease_type/lift/locality/parking/property_age/property_size/swimming_pool/pin_code/rent/deposit/building_type</th>\n",
       "    </tr>\n",
       "  </thead>\n",
       "  <tbody>\n",
       "    <tr>\n",
       "      <th>0</th>\n",
       "      <td>ff8080814a078fd2014a15c813ff0b03</td>\n",
       "      <td>BHK3</td>\n",
       "      <td>20-02-2017 09:24</td>\n",
       "      <td>3.0</td>\n",
       "      <td>2.0</td>\n",
       "      <td>6.0</td>\n",
       "      <td>SEMI_FURNISHED</td>\n",
       "      <td>1</td>\n",
       "      <td>12.872456</td>\n",
       "      <td>77.617578</td>\n",
       "      <td>...</td>\n",
       "      <td>2.0</td>\n",
       "      <td>2000.0</td>\n",
       "      <td>0</td>\n",
       "      <td>560068.0</td>\n",
       "      <td>22000.0</td>\n",
       "      <td>150000.0</td>\n",
       "      <td>AP</td>\n",
       "      <td>NaN</td>\n",
       "      <td>NaN</td>\n",
       "      <td>NaN</td>\n",
       "    </tr>\n",
       "    <tr>\n",
       "      <th>1</th>\n",
       "      <td>ff8081814c2dea94014c50865ea35904</td>\n",
       "      <td>BHK2</td>\n",
       "      <td>11-03-2017 16:12</td>\n",
       "      <td>2.0</td>\n",
       "      <td>0.0</td>\n",
       "      <td>2.0</td>\n",
       "      <td>SEMI_FURNISHED</td>\n",
       "      <td>0</td>\n",
       "      <td>12.876009</td>\n",
       "      <td>77.617934</td>\n",
       "      <td>...</td>\n",
       "      <td>5.0</td>\n",
       "      <td>1250.0</td>\n",
       "      <td>0</td>\n",
       "      <td>560076.0</td>\n",
       "      <td>12500.0</td>\n",
       "      <td>125000.0</td>\n",
       "      <td>IF</td>\n",
       "      <td>NaN</td>\n",
       "      <td>NaN</td>\n",
       "      <td>NaN</td>\n",
       "    </tr>\n",
       "    <tr>\n",
       "      <th>2</th>\n",
       "      <td>ff8081814cff7251014d04e2cc7018fd</td>\n",
       "      <td>BHK2</td>\n",
       "      <td>18-03-2017 14:26</td>\n",
       "      <td>2.0</td>\n",
       "      <td>2.0</td>\n",
       "      <td>19.0</td>\n",
       "      <td>SEMI_FURNISHED</td>\n",
       "      <td>1</td>\n",
       "      <td>12.875923</td>\n",
       "      <td>77.617946</td>\n",
       "      <td>...</td>\n",
       "      <td>2.0</td>\n",
       "      <td>1279.0</td>\n",
       "      <td>1</td>\n",
       "      <td>560068.0</td>\n",
       "      <td>17500.0</td>\n",
       "      <td>175000.0</td>\n",
       "      <td>AP</td>\n",
       "      <td>NaN</td>\n",
       "      <td>NaN</td>\n",
       "      <td>NaN</td>\n",
       "    </tr>\n",
       "    <tr>\n",
       "      <th>3</th>\n",
       "      <td>ff8081814eb65997014ebbaa22f11869</td>\n",
       "      <td>BHK2</td>\n",
       "      <td>28-03-2017 11:09</td>\n",
       "      <td>2.0</td>\n",
       "      <td>3.0</td>\n",
       "      <td>5.0</td>\n",
       "      <td>SEMI_FURNISHED</td>\n",
       "      <td>1</td>\n",
       "      <td>12.859438</td>\n",
       "      <td>77.614948</td>\n",
       "      <td>...</td>\n",
       "      <td>1.0</td>\n",
       "      <td>1200.0</td>\n",
       "      <td>0</td>\n",
       "      <td>560076.0</td>\n",
       "      <td>15000.0</td>\n",
       "      <td>100000.0</td>\n",
       "      <td>AP</td>\n",
       "      <td>NaN</td>\n",
       "      <td>NaN</td>\n",
       "      <td>NaN</td>\n",
       "    </tr>\n",
       "    <tr>\n",
       "      <th>4</th>\n",
       "      <td>ff8081814fa8748d014fabcabea10bb6</td>\n",
       "      <td>BHK3</td>\n",
       "      <td>14-02-2017 17:07</td>\n",
       "      <td>2.0</td>\n",
       "      <td>1.0</td>\n",
       "      <td>3.0</td>\n",
       "      <td>SEMI_FURNISHED</td>\n",
       "      <td>0</td>\n",
       "      <td>12.875697</td>\n",
       "      <td>77.617187</td>\n",
       "      <td>...</td>\n",
       "      <td>1.0</td>\n",
       "      <td>1550.0</td>\n",
       "      <td>0</td>\n",
       "      <td>560076.0</td>\n",
       "      <td>18000.0</td>\n",
       "      <td>100000.0</td>\n",
       "      <td>AP</td>\n",
       "      <td>NaN</td>\n",
       "      <td>NaN</td>\n",
       "      <td>NaN</td>\n",
       "    </tr>\n",
       "  </tbody>\n",
       "</table>\n",
       "<p>5 rows × 24 columns</p>\n",
       "</div>"
      ],
      "text/plain": [
       "                        property_id  type   activation_date  bathroom  floor  \\\n",
       "0  ff8080814a078fd2014a15c813ff0b03  BHK3  20-02-2017 09:24       3.0    2.0   \n",
       "1  ff8081814c2dea94014c50865ea35904  BHK2  11-03-2017 16:12       2.0    0.0   \n",
       "2  ff8081814cff7251014d04e2cc7018fd  BHK2  18-03-2017 14:26       2.0    2.0   \n",
       "3  ff8081814eb65997014ebbaa22f11869  BHK2  28-03-2017 11:09       2.0    3.0   \n",
       "4  ff8081814fa8748d014fabcabea10bb6  BHK3  14-02-2017 17:07       2.0    1.0   \n",
       "\n",
       "   total_floor      furnishing gym   latitude  longitude  ... property_age  \\\n",
       "0          6.0  SEMI_FURNISHED   1  12.872456  77.617578  ...          2.0   \n",
       "1          2.0  SEMI_FURNISHED   0  12.876009  77.617934  ...          5.0   \n",
       "2         19.0  SEMI_FURNISHED   1  12.875923  77.617946  ...          2.0   \n",
       "3          5.0  SEMI_FURNISHED   1  12.859438  77.614948  ...          1.0   \n",
       "4          3.0  SEMI_FURNISHED   0  12.875697  77.617187  ...          1.0   \n",
       "\n",
       "  property_size swimming_pool  pin_code     rent   deposit building_type  \\\n",
       "0        2000.0             0  560068.0  22000.0  150000.0            AP   \n",
       "1        1250.0             0  560076.0  12500.0  125000.0            IF   \n",
       "2        1279.0             1  560068.0  17500.0  175000.0            AP   \n",
       "3        1200.0             0  560076.0  15000.0  100000.0            AP   \n",
       "4        1550.0             0  560076.0  18000.0  100000.0            AP   \n",
       "\n",
       "   location  ÿþ  \\\n",
       "0       NaN NaN   \n",
       "1       NaN NaN   \n",
       "2       NaN NaN   \n",
       "3       NaN NaN   \n",
       "4       NaN NaN   \n",
       "\n",
       "   property_id/type/activation_date/bathroom/floor/total_floor/furnishing/gym/latitude/longitude/lease_type/lift/locality/parking/property_age/property_size/swimming_pool/pin_code/rent/deposit/building_type  \n",
       "0                                                NaN                                                                                                                                                            \n",
       "1                                                NaN                                                                                                                                                            \n",
       "2                                                NaN                                                                                                                                                            \n",
       "3                                                NaN                                                                                                                                                            \n",
       "4                                                NaN                                                                                                                                                            \n",
       "\n",
       "[5 rows x 24 columns]"
      ]
     },
     "execution_count": 27,
     "metadata": {},
     "output_type": "execute_result"
    }
   ],
   "source": [
    "df.head()"
   ]
  },
  {
   "cell_type": "code",
   "execution_count": 31,
   "id": "5aa55932-582c-406d-9d5f-12281f4fd072",
   "metadata": {},
   "outputs": [
    {
     "name": "stdout",
     "output_type": "stream",
     "text": [
      "The most frequent time category is: Afternoon\n"
     ]
    },
    {
     "name": "stderr",
     "output_type": "stream",
     "text": [
      "C:\\Users\\Hp\\AppData\\Local\\Temp\\ipykernel_20284\\2202070334.py:5: UserWarning: Parsing dates in %d-%m-%Y %H:%M format when dayfirst=False (the default) was specified. Pass `dayfirst=True` or specify a format to silence this warning.\n",
      "  df['activation_date'] = pd.to_datetime(df['activation_date'])\n"
     ]
    }
   ],
   "source": [
    "import pandas as pd\n",
    "df['activation_date'] = pd.to_datetime(df['activation_date'])\n",
    "\n",
    "df['hour'] = df['activation_date'].dt.hour\n",
    "\n",
    "df['time_category'] = pd.cut(df['hour'],\n",
    "                             bins=[-1, 5, 11, 17, 23],\n",
    "                             labels=['Midnight', 'Morning', 'Afternoon', 'Evening'],\n",
    "                             right=True)\n",
    "most_frequent_time_category = df['time_category'].mode()[0]\n",
    "\n",
    "print(f\"The most frequent time category is: {most_frequent_time_category}\")\n"
   ]
  },
  {
   "cell_type": "code",
   "execution_count": 32,
   "id": "a1d229b2-f1e7-4090-9b02-fb7e70c922f6",
   "metadata": {},
   "outputs": [
    {
     "name": "stdout",
     "output_type": "stream",
     "text": [
      "The most properties were activated on the following date(s): [datetime.date(2017, 3, 17)]\n"
     ]
    }
   ],
   "source": [
    "import pandas as pd\n",
    "df['activation_date'] = pd.to_datetime(df['activation_date'])\n",
    "\n",
    "activation_count = df['activation_date'].dt.date.value_counts()\n",
    "most_activated_dates = activation_count[activation_count == activation_count.max()]\n",
    "\n",
    "print(f\"The most properties were activated on the following date(s): {most_activated_dates.index.tolist()}\")\n"
   ]
  },
  {
   "cell_type": "code",
   "execution_count": 35,
   "id": "d3186341-1082-4244-b307-5c7fb9b463e9",
   "metadata": {},
   "outputs": [
    {
     "name": "stdout",
     "output_type": "stream",
     "text": [
      "lease_type\n",
      "FAMILY      6909\n",
      "ANYONE      5950\n",
      "BACHELOR     553\n",
      "COMPANY       23\n",
      "Name: count, dtype: int64\n",
      "Total properties: 14532\n",
      "Properties available for lease under 'Anyone': 5950\n",
      "The percentage of properties available for lease under the 'Anyone' category is: 40.94%\n"
     ]
    }
   ],
   "source": [
    "import pandas as pd\n",
    "\n",
    "print(df['lease_type'].value_counts())\n",
    "total_properties = len(df)\n",
    "anyone_lease_properties = df[df['lease_type'] == 'ANYONE'].shape[0]\n",
    "percentage_anyone_lease = (anyone_lease_properties / total_properties) * 100\n",
    "print(f\"Total properties: {total_properties}\")\n",
    "print(f\"Properties available for lease under 'Anyone': {anyone_lease_properties}\")\n",
    "print(f\"The percentage of properties available for lease under the 'Anyone' category is: {percentage_anyone_lease:.2f}%\")\n"
   ]
  },
  {
   "cell_type": "code",
   "execution_count": 37,
   "id": "049fccf6-827f-4efa-9034-55283d090a64",
   "metadata": {},
   "outputs": [
    {
     "name": "stdout",
     "output_type": "stream",
     "text": [
      "The locality with the highest average rent is: Bellandur\n",
      "The highest average rent is: 25949.46325878594\n"
     ]
    }
   ],
   "source": [
    "import pandas as pd\n",
    "\n",
    "average_rent_by_locality = df.groupby('locality')['rent'].mean()\n",
    "locality_with_highest_rent = average_rent_by_locality.idxmax()\n",
    "highest_rent = average_rent_by_locality.max()\n",
    "print(f\"The locality with the highest average rent is: {locality_with_highest_rent}\")\n",
    "print(f\"The highest average rent is: {highest_rent}\")\n"
   ]
  },
  {
   "cell_type": "code",
   "execution_count": null,
   "id": "78dc4663-b4c9-4660-ad8e-6c0a55d91a93",
   "metadata": {},
   "outputs": [],
   "source": []
  }
 ],
 "metadata": {
  "kernelspec": {
   "display_name": "Python 3 (ipykernel)",
   "language": "python",
   "name": "python3"
  },
  "language_info": {
   "codemirror_mode": {
    "name": "ipython",
    "version": 3
   },
   "file_extension": ".py",
   "mimetype": "text/x-python",
   "name": "python",
   "nbconvert_exporter": "python",
   "pygments_lexer": "ipython3",
   "version": "3.11.7"
  }
 },
 "nbformat": 4,
 "nbformat_minor": 5
}
